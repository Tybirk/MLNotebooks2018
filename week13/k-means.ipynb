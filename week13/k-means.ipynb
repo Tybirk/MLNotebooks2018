{
 "cells": [
  {
   "cell_type": "markdown",
   "metadata": {},
   "source": [
    "# $k$-means clustering (theory)\n",
    "On friday the k-means clustering problem was introduced. \n",
    "\n",
    "<b>Question 1 (a): </b>What is the objective of $k$-means clustering problem? \n",
    "\n",
    "<b>Question 1 (b): </b>Rewrite the objective for $\\text{dist}(x,y)=||x-y||$\n",
    "\n",
    "For finding a (locally) optimal solution to the $k$-means clustering problem Lloyd's algorithm was introduced. Let $x_1,...,x_n\\in \\mathbb{R}^d$. The algorithm has two steps\n",
    "\n",
    "- while improving:\n",
    "  - Update centroid: For $i=1,...,k$ let $\\mu_i = \\frac{1}{|C_i|} \\sum_{x\\in C_i}x$\n",
    "  - Update clustering: Assign $x_i$ to cluster $C_j$ where $j=\\arg \\min ||x-\\mu_j||^2$ for $i=1,..., n$\n",
    "\n",
    "\n",
    "<b>Question 2: </b>Consider the image below. What are the centroids? Can you interpret the cost visually?\n",
    "\n",
    "<img src=\"http://dovgalecs.com/blog/wp-content/uploads/2012/11/untitled.jpg\" style=\"width: 200px; height:auto\" />\n",
    "\n",
    "<b>Question 3: </b>What is the running time of Lloyds algorithm? Let $T$ be the number of iterations, $n$ number of data points, $d$ dimension of the datapoints and $k$ the number of clusters. \n",
    "\n",
    "<b>Question 4: </b>Does Lloyd's algorithm provide any guarantees for finding the optimal solution?\n",
    "\n",
    "<b>Question 5: </b>Can a cluster of a $k$-means clustering be empty? \n",
    "\n",
    "<b>Question 6: </b>Why do we choose the mean in each cluster in the 'Update centroid' step of the algorithm? \n",
    "\n",
    "HINT: Try differentiate objective function and solve for equal zero.  \n",
    "\n",
    "<b>Question 7: </b>Is Lloyd's algorithm guaranteed to converge?\n",
    "\n",
    "HINT: How many different clusterings are there? Finite/Infinite? Could Lloyd's algorithm find the same clustering twice? Does the cost decrease/increase between iterations?\n",
    "\n",
    "<b>Bonus Point: </b>\n",
    "It is important that you realize there is a different between the $k$-means clustering problem and Lloyd's algorithm. Lloyd's algorithm is sometimes refered to as \"the $k$-means algorithm\" due to its extensive use. This might make it a bit confusing to distinguish between problem and algorithm. "
   ]
  },
  {
   "cell_type": "markdown",
   "metadata": {},
   "source": [
    "# $k$-means clustering (code)\n",
    "In this exercise you must implement Lloyd's algorithm. To test our implementation we will need data. For this we will use the Iris dataset similar to the book [ZM]. The data set has three clases so we <i>cheat</i> by setting $k=3$"
   ]
  },
  {
   "cell_type": "code",
   "execution_count": null,
   "metadata": {},
   "outputs": [],
   "source": [
    "# Load the Iris data set\n",
    "import sklearn.datasets\n",
    "iris = sklearn.datasets.load_iris()\n",
    "X = iris['data'][:,0:2] # reduce dimensions so we can plot what happens.\n",
    "k = 3\n",
    "print(X.shape)"
   ]
  },
  {
   "cell_type": "markdown",
   "metadata": {},
   "source": [
    "## Implementing Lloyds algorithm\n",
    "The following implementation of Lloyd's algorithm is similar to the previous pseudo-code, except we added printing and stopping.\n",
    "\n",
    "- for i=1,...,T:\n",
    "  - Update centroid: For $i=1,...,k$ let $\\mu_i = \\frac{1}{|C_i|} \\sum_{x\\in C_i}x$\n",
    "  - Update clustering: Assign $x_i$ to cluster $C_j$ where $j=\\arg \\min ||x-\\mu_j||^2$\n",
    "  - Compute and print cost of current clustering\n",
    "  - If cost didn't improve from last iteration stop\n",
    "\n",
    "Your job is to implement the two update operations. They are marked in the code as usual. One thing that might be a bit confusing is that clusterings are represented as a $n$-dimensional array `clustering`. If the point $x_i$ should be in cluster $j$ we have that `clustering[i]=j`.  "
   ]
  },
  {
   "cell_type": "code",
   "execution_count": null,
   "metadata": {},
   "outputs": [],
   "source": [
    "import numpy as np\n",
    "\n",
    "def lloyds_algorithm(X, k, T):\n",
    "    \"\"\" Clusters the data of X into k clusters using T iterations of Lloyd's algorithm. \n",
    "    \n",
    "        Parameters\n",
    "        ----------\n",
    "        X : Data matrix of shape (n, d)\n",
    "        k : Number of clusters.\n",
    "        T : Maximum number of iterations to run Lloyd's algorithm. \n",
    "        \n",
    "        Returns\n",
    "        -------\n",
    "        clustering: A vector of shape (n, ) where the i'th entry holds the cluster of X[i].\n",
    "        centroids:  The centroids/average points of each cluster. \n",
    "        cost:       The cost of the clustering \n",
    "    \"\"\"\n",
    "    n, d = X.shape\n",
    "    \n",
    "    # Initialize clusters random. \n",
    "    clustering = np.random.randint(0, k, (n, )) \n",
    "    centroids  = np.zeros((k, d))\n",
    "    \n",
    "    # Used to stop if cost isn't improving (decreasing)\n",
    "    cost = 0\n",
    "    oldcost = 0\n",
    "    \n",
    "    # Column names\n",
    "    print(\"Iterations\\tCost\")\n",
    "    \n",
    "    for i in range(T):\n",
    "        \n",
    "        # Update centroid\n",
    "        \n",
    "        # YOUR CODE HERE\n",
    "        # END CODE\n",
    "\n",
    "        \n",
    "        # Update clustering \n",
    "        \n",
    "        # YOUR CODE HERE\n",
    "        # END CODE\n",
    "        \n",
    "        \n",
    "        # Compute and print cost\n",
    "        cost = 0\n",
    "        for j in range(n):\n",
    "            cost += np.linalg.norm(X[j] - centroids[clustering[j]])**2    \n",
    "        print(i+1, \"\\t\\t\", cost)\n",
    "        # fast alternative: cost = np.sum((X - centroids[clustering])**2) \n", 
    "        \n",
    "        # Stop if cost didn't improve more than epislon (decrease)\n",
    "        if np.isclose(cost, oldcost): break #TODO\n",
    "        oldcost = cost\n",
    "        \n",
    "    return clustering, centroids, cost\n",
    "\n",
    "clustering, centroids, cost = lloyds_algorithm(X, 3, 100)"
   ]
  },
  {
   "cell_type": "markdown",
   "metadata": {},
   "source": [
    "The random initialization sometimes causes the algorithm to get stuck at different local minimum. This causes different runs to get different scores. In practice this is usually handled by running the algorithm several times and picking the best run. \n",
    "\n",
    "The following code runs Lloyd's algorithm 50 times and plots the score of each run. Because the data set is fairly small, $n=150$, most of the runs will get the same score. Try change the number of clusters from $3$ to $10$. What happens? "
   ]
  },
  {
   "cell_type": "code",
   "execution_count": null,
   "metadata": {},
   "outputs": [],
   "source": [
    "%matplotlib notebook \n",
    "import matplotlib.pyplot as plt\n",
    "\n",
    "fig, ax = plt.subplots(1, 1, figsize=(8,3))    \n",
    "costs = []\n",
    "\n",
    "for i in range(100):\n",
    "    _, _, cost = lloyds_algorithm(X, 3, 100) # Try change number of clusters from 3 to 10. \n",
    "    costs.append(cost)\n",
    "    ax.plot(costs, 'bx')\n",
    "    fig.canvas.draw()"
   ]
  },
  {
   "cell_type": "markdown",
   "metadata": {},
   "source": [
    "To check your implementation you should run <a href=\"http://scikit-learn.org/stable/modules/generated/sklearn.cluster.KMeans.html\">sklearns</a> implementation of Lloyds algorithm. By default the implementation repeats the algorithm $10$ times and picks the best result. A sanity check for your implementation of Lloyd's algorithm is to check that the scores are roughly the same. "
   ]
  },
  {
   "cell_type": "code",
   "execution_count": null,
   "metadata": {},
   "outputs": [],
   "source": [
    "from sklearn.cluster import KMeans\n",
    "kmeans = KMeans(n_clusters=3, random_state=0).fit(X)\n",
    "print(-kmeans.score(X))"
   ]
  },
  {
   "cell_type": "markdown",
   "metadata": {},
   "source": [
    "To get a visual understanding of the algorithm, the following code visualizes each step of the algorithm. Just copy and paste the answer from your implementation from above and run."
   ]
  },
  {
   "cell_type": "code",
   "execution_count": null,
   "metadata": {},
   "outputs": [],
   "source": [
    "%matplotlib notebook \n",
    "import matplotlib.pyplot as plt\n",
    "import time\n",
    "\n",
    "def lloyds_algorithm_visualize(X, k, T):\n",
    "    \"\"\" Clusters the data of X into k clusters using T iterations of Lloyd's algorithm. \n",
    "        The data is assumed to have dimension 2 and each step of the algorithm is visualized. \n",
    "    \n",
    "        Parameters\n",
    "        ----------\n",
    "        X : Data matrix of shape (n, d)\n",
    "        k : Number of clusters.\n",
    "        T : Maximum number of iterations to run Lloyd's algorithm. \n",
    "        \n",
    "        Returns\n",
    "        -------\n",
    "        clustering: A vector of shape (n, ) where the i'th entry holds the cluster of X[i]. \n",
    "    \"\"\"\n",
    "    n, d = X.shape\n",
    "    \n",
    "    assert d == 2, \"The data is assumed to have dimension 2 so we can visualize it. \"\n",
    "    \n",
    "    # Initialize clusters random. \n",
    "    clustering = np.random.randint(0, k, (n, )) \n",
    "    centroids  = np.zeros((k, d))\n",
    "    \n",
    "    # Used to stop if cost isn't improving (decreasing)\n",
    "    cost = 0\n",
    "    oldcost = 0\n",
    "    \n",
    "    # Initialize subplot for visualization\n",
    "    fig, ax = plt.subplots(1, 1, figsize=(9,4)) \n",
    "    ax.axis('off')\n",
    "    colors = [\"r\", \"g\", \"b\"]\n",
    "    \n",
    "    # Column names\n",
    "    print(\"Iteration\\tCost\")\n",
    "    \n",
    "    for i in range(T):\n",
    "        \n",
    "        # Update centroid\n",
    "        \n",
    "        # YOUR CODE HERE\n",
    "        # END CODE\n",
    "\n",
    "        # Update clustering \n",
    "        \n",
    "        # YOUR CODE HERE\n",
    "        # END CODE\n",
    "        \n",
    "        \n",
    "        # Draw clusters\n",
    "        ax.cla()\n",
    "        for j in range(k):\n",
    "            centroid = centroids[j]\n",
    "            c = colors[j]\n",
    "            ax.scatter(centroid[0], centroid[1], s=123, c=c, marker='^')\n",
    "            data = X[clustering==j]\n",
    "            x = data[:,0]\n",
    "            y = data[:,1]\n",
    "            ax.scatter(x, y, s=3, c=c)\n",
    "            \n",
    "        fig.canvas.draw()\n",
    "        time.sleep(1)\n",
    "        \n",
    "        # Compute and print cost\n",
    "        cost = 0\n",
    "        for j in range(n):\n",
    "            cost += np.linalg.norm(X[j] - centroids[clustering[j]])**2    \n",
    "        print(i+1, \"\\t\\t\", cost)\n",
    "        \n",
    "        \n",
    "        # Stop if cost didn't improve (decrease)\n",
    "        if np.isclose(cost, oldcost): break #TODO\n",
    "        oldcost = cost\n",
    "        \n",
    "    return clustering, centroids, cost\n",
    "\n",
    "clustering, centroids, cost = lloyds_algorithm_visualize(X, 3, 100)"
   ]
  },
  {
   "cell_type": "markdown",
   "metadata": {},
   "source": [
    "## Evaluating the clustering using silhuette coefficient\n",
    "In the lecture it was discussed how one can compare different clusterings. In this exercise we try to implement one of these comparison techniques."
   ]
  },
  {
   "cell_type": "code",
   "execution_count": null,
   "metadata": {},
   "outputs": [],
   "source": [
    "def silhouette(data, clustering): # give figure at TA session\n",
    "    n, d = data.shape\n",
    "\n",
    "    # YOUR CODE HERE\n",
    "    s=...\n",
    "    # END CODE\n",
    "\n",
    "    return s\n",
    "\n",
    "silhouette(X, clustering)"
   ]
  },
  {
   "cell_type": "markdown",
   "metadata": {},
   "source": [
    "What is the running time of computing the Silhouette coefficient?"
   ]
  },
  {
   "cell_type": "markdown",
   "metadata": {},
   "source": [
    "## Using clustering for image compression data\n",
    "In this exercise you must use Lloyd's algorithm for image compression. The following code downloads and displays the two images we will consider: "
   ]
  },
  {
   "cell_type": "code",
   "execution_count": null,
   "metadata": {},
   "outputs": [],
   "source": [
    "import imageio\n",
    "\n",
    "def download_image(url):\n",
    "    filename = url[url.rindex('/')+1:]\n",
    "    try:\n",
    "        with open(filename, 'rb') as fp:\n",
    "            return imageio.imread(fp) / 255\n",
    "    except FileNotFoundError:\n",
    "        import urllib.request\n",
    "        with open(filename, 'w+b') as fp, urllib.request.urlopen(url) as r:\n",
    "            fp.write(r.read())\n",
    "            return imageio.imread(fp) / 255\n",
    "        \n",
    "        \n",
    "img_stairs = download_image('https://users-cs.au.dk/rav/ml/handins/h4/nygaard_stairs.jpg') \n",
    "img_facade = download_image('https://users-cs.au.dk/rav/ml/handins/h4/nygaard_facade.jpg')\n",
    "\n",
    "\n",
    "fig, ax = plt.subplots(1, 2, figsize=(9, 3))\n",
    "ax[0].imshow(img_facade)\n",
    "ax[1].imshow(img_stairs)\n",
    "plt.show()"
   ]
  },
  {
   "cell_type": "markdown",
   "metadata": {},
   "source": [
    "Each pixel of the above images are represented by three values: (R, G, B). By using clustering we can find groups of pixels that are similar, and represent each group of pixels just by its centroid. The code below implements this idea. Try run it (it might take some time to run)"
   ]
  },
  {
   "cell_type": "code",
   "execution_count": null,
   "metadata": {},
   "outputs": [],
   "source": [
    "def compress_kmeans(im, k, T):\n",
    "    height, width, depth = im.shape\n",
    "    data = im.reshape((height * width, depth))\n",
    "    clustering, centroids, score = lloyds_algorithm(data, k, 5)\n",
    "    \n",
    "    # make each entry of data to the value of it's cluster\n",
    "    data_compressed = data\n",
    "    \n",
    "    for i in range(k): data_compressed[clustering == i] = centroids[i] \n",
    "    \n",
    "    im_compressed = data_compressed.reshape((height, width, depth))\n",
    "    plt.figure()\n",
    "    plt.imshow(im_compressed)\n",
    "    plt.show()\n",
    "\n",
    "T = 10\n",
    "k = 4\n",
    "compress_kmeans(img_facade.copy(), k, T)"
   ]
  },
  {
   "cell_type": "markdown",
   "metadata": {},
   "source": [
    "<b>Question 1</b>: Do you think higher/lower values of $k$ and $T$ gives \"better\" images? Try experiment with different values and make the best image you can. \n",
    "\n",
    "<b>Bonus Question: </b>(This exercise is not important for understanding the theory of the course) <br>\n",
    "Try to modify the code to draw the image in each iteration. This should allow you to see how better a better clustering corresponds to selecting more representative colors. You can find inspiration to interactive plotting in the function `lloyds_algorithm_visualize` above. "
   ]
  },
  {
   "cell_type": "markdown",
   "metadata": {
    "collapsed": true
   },
   "source": [
    "# Clustering digits\n",
    "In previous weeks we did supervised learning on images of digits. In this exercise we will perform clustering on digits. Remember clustering can be considered a type of unsupervised learning. The main difference to what we did before is that  will attempt to find patterns in the data without using the labels.  \n",
    "\n",
    "You can use the AUDigits if you want. The following code uses a data set of images called MNIST. They are almost identical. The only reason for using MNIST is that we can import it with just two lines of code. "
   ]
  },
  {
   "cell_type": "code",
   "execution_count": null,
   "metadata": {},
   "outputs": [],
   "source": [
    "import torchvision.datasets as datasets\n",
    "mnist_trainset = datasets.MNIST(root='./data', train=True, download=True, transform=None)\n",
    "\n",
    "X = mnist_trainset.train_data.numpy().reshape((60000, 28*28))\n",
    "y = mnist_trainset.train_labels.numpy()\n",
    "\n",
    "print(X.shape)"
   ]
  },
  {
   "cell_type": "markdown",
   "metadata": {},
   "source": [
    "The following code runs Lloyd's algorithm on 5000 images from the MNIST dataset. It then visualizes the found centroids. "
   ]
  },
  {
   "cell_type": "code",
   "execution_count": null,
   "metadata": {},
   "outputs": [],
   "source": [
    "# One cluster for each digit\n",
    "k = 10\n",
    "\n",
    "# Run Lloyd's algorithm on 5000 images from the MNIST dataset. \n",
    "clustering, centroids, score = lloyds_algorithm(X[:1000], 10, 50)\n",
    "print(centroids.shape)\n",
    "fig, ax = plt.subplots(1, k, figsize=(8, 1))\n",
    "\n",
    "for i in range(k):\n",
    "    ax[i].imshow(centroids[i].reshape(28, 28), cmap='gray')\n",
    "plt.show()"
   ]
  },
  {
   "cell_type": "markdown",
   "metadata": {},
   "source": [
    "<b>Question 1: </b>Why do the centroids look like images of digits?\n",
    "\n",
    "<b>Question 2: </b>Is it possible that not all digits are present? Why could this happen?"
   ]
  }
 ],
 "metadata": {
  "kernelspec": {
   "display_name": "Python 3",
   "language": "python",
   "name": "python3"
  },
  "language_info": {
   "codemirror_mode": {
    "name": "ipython",
    "version": 3
   },
   "file_extension": ".py",
   "mimetype": "text/x-python",
   "name": "python",
   "nbconvert_exporter": "python",
   "pygments_lexer": "ipython3",
   "version": "3.6.1"
  }
 },
 "nbformat": 4,
 "nbformat_minor": 1
}
